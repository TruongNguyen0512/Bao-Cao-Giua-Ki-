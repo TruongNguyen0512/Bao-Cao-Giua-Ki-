{
  "nbformat": 4,
  "nbformat_minor": 0,
  "metadata": {
    "colab": {
      "provenance": []
    },
    "kernelspec": {
      "name": "python3",
      "display_name": "Python 3"
    },
    "language_info": {
      "name": "python"
    }
  },
  "cells": [
    {
      "cell_type": "code",
      "execution_count": 1,
      "metadata": {
        "id": "wUpL8bHvmlHT"
      },
      "outputs": [],
      "source": [
        "import matplotlib.pyplot as plt\n",
        "from keras.layers import LeakyReLU\n",
        "import numpy as np\n",
        "from keras.models import Sequential\n",
        "from keras.layers import Dense, Activation, Dropout, Conv2D, MaxPooling2D, Flatten\n",
        "from keras.utils import to_categorical\n",
        "from keras.models import load_model\n",
        "from keras.utils import load_img, img_to_array\n",
        "import os\n",
        "from keras.preprocessing.image import ImageDataGenerator"
      ]
    },
    {
      "cell_type": "code",
      "source": [
        "train_data=ImageDataGenerator(rescale=1./255, shear_range=0.2, zoom_range=0.2, horizontal_flip=True)"
      ],
      "metadata": {
        "id": "c9RvTb9CmpQv"
      },
      "execution_count": 2,
      "outputs": []
    },
    {
      "cell_type": "code",
      "source": [
        "training=train_data.flow_from_directory('/content/drive/MyDrive/Food_Vn/Train',target_size=(150,150), batch_size=32, class_mode='categorical')"
      ],
      "metadata": {
        "colab": {
          "base_uri": "https://localhost:8080/"
        },
        "id": "m1cZtY5kmzh0",
        "outputId": "14a0a81e-0145-493c-9a10-d5f6b5fccf61"
      },
      "execution_count": 3,
      "outputs": [
        {
          "output_type": "stream",
          "name": "stdout",
          "text": [
            "Found 90 images belonging to 10 classes.\n"
          ]
        }
      ]
    },
    {
      "cell_type": "code",
      "source": [
        "training.class_indices"
      ],
      "metadata": {
        "colab": {
          "base_uri": "https://localhost:8080/"
        },
        "id": "qAzH70F9m3pP",
        "outputId": "79f9d39b-54aa-44c1-ea64-686820b484a7"
      },
      "execution_count": 4,
      "outputs": [
        {
          "output_type": "execute_result",
          "data": {
            "text/plain": [
              "{'Banh cuon': 0,\n",
              " 'Banh mi': 1,\n",
              " 'Banh pia': 2,\n",
              " 'Banh tet': 3,\n",
              " 'Banh xeo': 4,\n",
              " 'Bun dau mam tom': 5,\n",
              " 'Ca kho to': 6,\n",
              " 'Com tam': 7,\n",
              " 'Nem': 8,\n",
              " 'Pho': 9}"
            ]
          },
          "metadata": {},
          "execution_count": 4
        }
      ]
    },
    {
      "cell_type": "code",
      "source": [
        "# Tạo ra mạng CNN để train mô hình\n",
        "model=Sequential()\n",
        "model.add(Conv2D(32,kernel_size=(3,3), activation='relu', input_shape=(150,150,3), padding='same')) \n",
        "model.add(LeakyReLU(alpha=0.1))\n",
        "model.add(MaxPooling2D(2,2))\n",
        "\n",
        "model.add(Conv2D(64,kernel_size=(3,3), activation='relu', padding='same'))\n",
        "model.add(LeakyReLU(alpha=0.1)) \n",
        "model.add(MaxPooling2D(2,2))\n",
        "\n",
        "model.add(Conv2D(128,kernel_size=(3,3), activation='relu', padding='same')) \n",
        "model.add(LeakyReLU(alpha=0.1))\n",
        "model.add(MaxPooling2D(2,2))\n",
        "\n",
        "#ANN\n",
        "model.add(Flatten())\n",
        "model.add(Dense(256,activation='relu'))\n",
        "model.add(LeakyReLU(alpha=0.1))\n",
        "model.add(Dense(10,activation='softmax'))\n",
        "\n",
        "#Compile\n",
        "model.compile(loss='categorical_crossentropy',optimizer='Adam',metrics=['accuracy'])\n",
        "model.summary()"
      ],
      "metadata": {
        "colab": {
          "base_uri": "https://localhost:8080/"
        },
        "id": "t3bDt2rUm60d",
        "outputId": "00427c5c-d44b-40dd-e9c5-0e9c4c9fad2d"
      },
      "execution_count": 5,
      "outputs": [
        {
          "output_type": "stream",
          "name": "stdout",
          "text": [
            "Model: \"sequential\"\n",
            "_________________________________________________________________\n",
            " Layer (type)                Output Shape              Param #   \n",
            "=================================================================\n",
            " conv2d (Conv2D)             (None, 150, 150, 32)      896       \n",
            "                                                                 \n",
            " leaky_re_lu (LeakyReLU)     (None, 150, 150, 32)      0         \n",
            "                                                                 \n",
            " max_pooling2d (MaxPooling2D  (None, 75, 75, 32)       0         \n",
            " )                                                               \n",
            "                                                                 \n",
            " conv2d_1 (Conv2D)           (None, 75, 75, 64)        18496     \n",
            "                                                                 \n",
            " leaky_re_lu_1 (LeakyReLU)   (None, 75, 75, 64)        0         \n",
            "                                                                 \n",
            " max_pooling2d_1 (MaxPooling  (None, 37, 37, 64)       0         \n",
            " 2D)                                                             \n",
            "                                                                 \n",
            " conv2d_2 (Conv2D)           (None, 37, 37, 128)       73856     \n",
            "                                                                 \n",
            " leaky_re_lu_2 (LeakyReLU)   (None, 37, 37, 128)       0         \n",
            "                                                                 \n",
            " max_pooling2d_2 (MaxPooling  (None, 18, 18, 128)      0         \n",
            " 2D)                                                             \n",
            "                                                                 \n",
            " flatten (Flatten)           (None, 41472)             0         \n",
            "                                                                 \n",
            " dense (Dense)               (None, 256)               10617088  \n",
            "                                                                 \n",
            " leaky_re_lu_3 (LeakyReLU)   (None, 256)               0         \n",
            "                                                                 \n",
            " dense_1 (Dense)             (None, 10)                2570      \n",
            "                                                                 \n",
            "=================================================================\n",
            "Total params: 10,712,906\n",
            "Trainable params: 10,712,906\n",
            "Non-trainable params: 0\n",
            "_________________________________________________________________\n"
          ]
        }
      ]
    },
    {
      "cell_type": "code",
      "source": [
        "train=model.fit(training,epochs=50,batch_size=128,verbose=1)"
      ],
      "metadata": {
        "colab": {
          "base_uri": "https://localhost:8080/"
        },
        "id": "UfVEA02Jm7uc",
        "outputId": "4cf3c7c9-95d8-4f97-9df8-8a5baa01df45"
      },
      "execution_count": 6,
      "outputs": [
        {
          "output_type": "stream",
          "name": "stdout",
          "text": [
            "Epoch 1/50\n",
            "3/3 [==============================] - 22s 5s/step - loss: 2.0727 - accuracy: 0.5778\n",
            "Epoch 2/50\n",
            "3/3 [==============================] - 11s 2s/step - loss: 0.6676 - accuracy: 0.9222\n",
            "Epoch 3/50\n",
            "3/3 [==============================] - 11s 3s/step - loss: 0.4172 - accuracy: 0.9222\n",
            "Epoch 4/50\n",
            "3/3 [==============================] - 10s 2s/step - loss: 0.4541 - accuracy: 0.9222\n",
            "Epoch 5/50\n",
            "3/3 [==============================] - 11s 3s/step - loss: 0.4051 - accuracy: 0.9222\n",
            "Epoch 6/50\n",
            "3/3 [==============================] - 8s 2s/step - loss: 0.3818 - accuracy: 0.9222\n",
            "Epoch 7/50\n",
            "3/3 [==============================] - 10s 2s/step - loss: 0.3350 - accuracy: 0.9222\n",
            "Epoch 8/50\n",
            "3/3 [==============================] - 9s 3s/step - loss: 0.3650 - accuracy: 0.9222\n",
            "Epoch 9/50\n",
            "3/3 [==============================] - 9s 2s/step - loss: 0.3044 - accuracy: 0.9222\n",
            "Epoch 10/50\n",
            "3/3 [==============================] - 10s 2s/step - loss: 0.3042 - accuracy: 0.9333\n",
            "Epoch 11/50\n",
            "3/3 [==============================] - 10s 3s/step - loss: 0.2667 - accuracy: 0.9333\n",
            "Epoch 12/50\n",
            "3/3 [==============================] - 10s 3s/step - loss: 0.2477 - accuracy: 0.9333\n",
            "Epoch 13/50\n",
            "3/3 [==============================] - 10s 4s/step - loss: 0.2018 - accuracy: 0.9444\n",
            "Epoch 14/50\n",
            "3/3 [==============================] - 8s 2s/step - loss: 0.1690 - accuracy: 0.9667\n",
            "Epoch 15/50\n",
            "3/3 [==============================] - 9s 2s/step - loss: 0.1907 - accuracy: 0.9333\n",
            "Epoch 16/50\n",
            "3/3 [==============================] - 11s 2s/step - loss: 0.1355 - accuracy: 0.9556\n",
            "Epoch 17/50\n",
            "3/3 [==============================] - 10s 3s/step - loss: 0.0779 - accuracy: 0.9667\n",
            "Epoch 18/50\n",
            "3/3 [==============================] - 9s 2s/step - loss: 0.1004 - accuracy: 0.9556\n",
            "Epoch 19/50\n",
            "3/3 [==============================] - 10s 2s/step - loss: 0.0460 - accuracy: 0.9889\n",
            "Epoch 20/50\n",
            "3/3 [==============================] - 11s 4s/step - loss: 0.0263 - accuracy: 0.9889\n",
            "Epoch 21/50\n",
            "3/3 [==============================] - 8s 3s/step - loss: 0.0301 - accuracy: 0.9889\n",
            "Epoch 22/50\n",
            "3/3 [==============================] - 11s 3s/step - loss: 0.0322 - accuracy: 0.9889\n",
            "Epoch 23/50\n",
            "3/3 [==============================] - 10s 3s/step - loss: 0.0729 - accuracy: 0.9667\n",
            "Epoch 24/50\n",
            "3/3 [==============================] - 10s 2s/step - loss: 0.0061 - accuracy: 1.0000\n",
            "Epoch 25/50\n",
            "3/3 [==============================] - 12s 5s/step - loss: 0.0418 - accuracy: 0.9889\n",
            "Epoch 26/50\n",
            "3/3 [==============================] - 11s 3s/step - loss: 0.0525 - accuracy: 0.9889\n",
            "Epoch 27/50\n",
            "3/3 [==============================] - 11s 3s/step - loss: 0.0536 - accuracy: 0.9556\n",
            "Epoch 28/50\n",
            "3/3 [==============================] - 9s 2s/step - loss: 0.0714 - accuracy: 0.9667\n",
            "Epoch 29/50\n",
            "3/3 [==============================] - 10s 2s/step - loss: 0.0219 - accuracy: 1.0000\n",
            "Epoch 30/50\n",
            "3/3 [==============================] - 9s 3s/step - loss: 0.0255 - accuracy: 1.0000\n",
            "Epoch 31/50\n",
            "3/3 [==============================] - 9s 2s/step - loss: 0.0133 - accuracy: 1.0000\n",
            "Epoch 32/50\n",
            "3/3 [==============================] - 11s 2s/step - loss: 0.1286 - accuracy: 0.9778\n",
            "Epoch 33/50\n",
            "3/3 [==============================] - 11s 3s/step - loss: 0.0041 - accuracy: 1.0000\n",
            "Epoch 34/50\n",
            "3/3 [==============================] - 9s 2s/step - loss: 0.0139 - accuracy: 1.0000\n",
            "Epoch 35/50\n",
            "3/3 [==============================] - 10s 2s/step - loss: 0.0252 - accuracy: 0.9889\n",
            "Epoch 36/50\n",
            "3/3 [==============================] - 11s 3s/step - loss: 0.0267 - accuracy: 0.9778\n",
            "Epoch 37/50\n",
            "3/3 [==============================] - 8s 2s/step - loss: 0.0053 - accuracy: 1.0000\n",
            "Epoch 38/50\n",
            "3/3 [==============================] - 9s 2s/step - loss: 0.0075 - accuracy: 1.0000\n",
            "Epoch 39/50\n",
            "3/3 [==============================] - 11s 3s/step - loss: 0.0047 - accuracy: 1.0000\n",
            "Epoch 40/50\n",
            "3/3 [==============================] - 10s 3s/step - loss: 0.0013 - accuracy: 1.0000\n",
            "Epoch 41/50\n",
            "3/3 [==============================] - 9s 2s/step - loss: 9.5542e-04 - accuracy: 1.0000\n",
            "Epoch 42/50\n",
            "3/3 [==============================] - 11s 3s/step - loss: 0.0012 - accuracy: 1.0000\n",
            "Epoch 43/50\n",
            "3/3 [==============================] - 9s 2s/step - loss: 0.0028 - accuracy: 1.0000\n",
            "Epoch 44/50\n",
            "3/3 [==============================] - 11s 3s/step - loss: 0.0016 - accuracy: 1.0000\n",
            "Epoch 45/50\n",
            "3/3 [==============================] - 10s 3s/step - loss: 8.6030e-04 - accuracy: 1.0000\n",
            "Epoch 46/50\n",
            "3/3 [==============================] - 9s 2s/step - loss: 6.3464e-04 - accuracy: 1.0000\n",
            "Epoch 47/50\n",
            "3/3 [==============================] - 10s 2s/step - loss: 2.4053e-04 - accuracy: 1.0000\n",
            "Epoch 48/50\n",
            "3/3 [==============================] - 9s 3s/step - loss: 2.8334e-04 - accuracy: 1.0000\n",
            "Epoch 49/50\n",
            "3/3 [==============================] - 9s 2s/step - loss: 5.6556e-04 - accuracy: 1.0000\n",
            "Epoch 50/50\n",
            "3/3 [==============================] - 11s 3s/step - loss: 3.8585e-04 - accuracy: 1.0000\n"
          ]
        }
      ]
    },
    {
      "cell_type": "code",
      "source": [
        "# Đánh giá độ chính xác của mô hình \n",
        "Score=model.evaluate(training,verbose=0)\n",
        "print('Train Loss', Score[0])\n",
        "print('Train Accuracy', Score[1])"
      ],
      "metadata": {
        "colab": {
          "base_uri": "https://localhost:8080/"
        },
        "id": "wgpJeg_RnCkk",
        "outputId": "12cd96f6-1a47-4785-cd1e-4300ac7c596a"
      },
      "execution_count": 7,
      "outputs": [
        {
          "output_type": "stream",
          "name": "stdout",
          "text": [
            "Train Loss 0.0006016873521730304\n",
            "Train Accuracy 1.0\n"
          ]
        }
      ]
    },
    {
      "cell_type": "code",
      "source": [
        "# Lưu \n",
        "model.save(\"/content/drive/MyDrive/Food_Vn\")"
      ],
      "metadata": {
        "colab": {
          "base_uri": "https://localhost:8080/"
        },
        "id": "iNS_E3adnDwr",
        "outputId": "0bf9cf7c-26b6-469c-d600-e25e3ca9f58d"
      },
      "execution_count": 8,
      "outputs": [
        {
          "output_type": "stream",
          "name": "stderr",
          "text": [
            "WARNING:absl:Found untraced functions such as _jit_compiled_convolution_op, _jit_compiled_convolution_op, _jit_compiled_convolution_op, _update_step_xla while saving (showing 4 of 4). These functions will not be directly callable after loading.\n"
          ]
        }
      ]
    },
    {
      "cell_type": "code",
      "source": [
        "model_1=load_model('/content/drive/MyDrive/Food_Vn')"
      ],
      "metadata": {
        "id": "h05uv7DmnKdG"
      },
      "execution_count": 9,
      "outputs": []
    },
    {
      "cell_type": "code",
      "source": [
        "from keras.models import load_model\n",
        "from keras.utils import load_img, img_to_array\n",
        "import os\n",
        "import numpy as np \n",
        "test='/content/drive/MyDrive/Food_Vn/Validation'\n",
        "\n",
        "for i in os.listdir(test):\n",
        "  img=load_img(test+'/'+i,target_size=(150,150))\n",
        "  plt.imshow(img)\n",
        "  img=img_to_array(img) \n",
        "  img=img.astype('float32') \n",
        "  img=img/255 \n",
        "  img=np.expand_dims(img,axis=0)\n",
        "  result=(model_1.predict(img).argmax()) \n",
        "  class_name=['Banh cuon','Banh mi','Banh pia','Banh tet','Banh xeo','Bun dau mam tom','Ca kho to','Com tam','Nem','Pho']\n",
        "  print(class_name[result]) \n",
        "  plt.show()"
      ],
      "metadata": {
        "colab": {
          "base_uri": "https://localhost:8080/",
          "height": 356
        },
        "id": "ZeEeLZ6tnNd4",
        "outputId": "4de61175-166d-40ed-8beb-a6d89f51f97d"
      },
      "execution_count": 19,
      "outputs": [
        {
          "output_type": "error",
          "ename": "IsADirectoryError",
          "evalue": "ignored",
          "traceback": [
            "\u001b[0;31m---------------------------------------------------------------------------\u001b[0m",
            "\u001b[0;31mIsADirectoryError\u001b[0m                         Traceback (most recent call last)",
            "\u001b[0;32m<ipython-input-19-e60b2a364288>\u001b[0m in \u001b[0;36m<cell line: 7>\u001b[0;34m()\u001b[0m\n\u001b[1;32m      6\u001b[0m \u001b[0;34m\u001b[0m\u001b[0m\n\u001b[1;32m      7\u001b[0m \u001b[0;32mfor\u001b[0m \u001b[0mi\u001b[0m \u001b[0;32min\u001b[0m \u001b[0mos\u001b[0m\u001b[0;34m.\u001b[0m\u001b[0mlistdir\u001b[0m\u001b[0;34m(\u001b[0m\u001b[0mtest\u001b[0m\u001b[0;34m)\u001b[0m\u001b[0;34m:\u001b[0m\u001b[0;34m\u001b[0m\u001b[0;34m\u001b[0m\u001b[0m\n\u001b[0;32m----> 8\u001b[0;31m   \u001b[0mimg\u001b[0m\u001b[0;34m=\u001b[0m\u001b[0mload_img\u001b[0m\u001b[0;34m(\u001b[0m\u001b[0mtest\u001b[0m\u001b[0;34m+\u001b[0m\u001b[0;34m'/'\u001b[0m\u001b[0;34m+\u001b[0m\u001b[0mi\u001b[0m\u001b[0;34m,\u001b[0m\u001b[0mtarget_size\u001b[0m\u001b[0;34m=\u001b[0m\u001b[0;34m(\u001b[0m\u001b[0;36m150\u001b[0m\u001b[0;34m,\u001b[0m\u001b[0;36m150\u001b[0m\u001b[0;34m)\u001b[0m\u001b[0;34m)\u001b[0m\u001b[0;34m\u001b[0m\u001b[0;34m\u001b[0m\u001b[0m\n\u001b[0m\u001b[1;32m      9\u001b[0m   \u001b[0mplt\u001b[0m\u001b[0;34m.\u001b[0m\u001b[0mimshow\u001b[0m\u001b[0;34m(\u001b[0m\u001b[0mimg\u001b[0m\u001b[0;34m)\u001b[0m\u001b[0;34m\u001b[0m\u001b[0;34m\u001b[0m\u001b[0m\n\u001b[1;32m     10\u001b[0m   \u001b[0mimg\u001b[0m\u001b[0;34m=\u001b[0m\u001b[0mimg_to_array\u001b[0m\u001b[0;34m(\u001b[0m\u001b[0mimg\u001b[0m\u001b[0;34m)\u001b[0m\u001b[0;34m\u001b[0m\u001b[0;34m\u001b[0m\u001b[0m\n",
            "\u001b[0;32m/usr/local/lib/python3.9/dist-packages/keras/utils/image_utils.py\u001b[0m in \u001b[0;36mload_img\u001b[0;34m(path, grayscale, color_mode, target_size, interpolation, keep_aspect_ratio)\u001b[0m\n\u001b[1;32m    420\u001b[0m         \u001b[0;32mif\u001b[0m \u001b[0misinstance\u001b[0m\u001b[0;34m(\u001b[0m\u001b[0mpath\u001b[0m\u001b[0;34m,\u001b[0m \u001b[0mpathlib\u001b[0m\u001b[0;34m.\u001b[0m\u001b[0mPath\u001b[0m\u001b[0;34m)\u001b[0m\u001b[0;34m:\u001b[0m\u001b[0;34m\u001b[0m\u001b[0;34m\u001b[0m\u001b[0m\n\u001b[1;32m    421\u001b[0m             \u001b[0mpath\u001b[0m \u001b[0;34m=\u001b[0m \u001b[0mstr\u001b[0m\u001b[0;34m(\u001b[0m\u001b[0mpath\u001b[0m\u001b[0;34m.\u001b[0m\u001b[0mresolve\u001b[0m\u001b[0;34m(\u001b[0m\u001b[0;34m)\u001b[0m\u001b[0;34m)\u001b[0m\u001b[0;34m\u001b[0m\u001b[0;34m\u001b[0m\u001b[0m\n\u001b[0;32m--> 422\u001b[0;31m         \u001b[0;32mwith\u001b[0m \u001b[0mopen\u001b[0m\u001b[0;34m(\u001b[0m\u001b[0mpath\u001b[0m\u001b[0;34m,\u001b[0m \u001b[0;34m\"rb\"\u001b[0m\u001b[0;34m)\u001b[0m \u001b[0;32mas\u001b[0m \u001b[0mf\u001b[0m\u001b[0;34m:\u001b[0m\u001b[0;34m\u001b[0m\u001b[0;34m\u001b[0m\u001b[0m\n\u001b[0m\u001b[1;32m    423\u001b[0m             \u001b[0mimg\u001b[0m \u001b[0;34m=\u001b[0m \u001b[0mpil_image\u001b[0m\u001b[0;34m.\u001b[0m\u001b[0mopen\u001b[0m\u001b[0;34m(\u001b[0m\u001b[0mio\u001b[0m\u001b[0;34m.\u001b[0m\u001b[0mBytesIO\u001b[0m\u001b[0;34m(\u001b[0m\u001b[0mf\u001b[0m\u001b[0;34m.\u001b[0m\u001b[0mread\u001b[0m\u001b[0;34m(\u001b[0m\u001b[0;34m)\u001b[0m\u001b[0;34m)\u001b[0m\u001b[0;34m)\u001b[0m\u001b[0;34m\u001b[0m\u001b[0;34m\u001b[0m\u001b[0m\n\u001b[1;32m    424\u001b[0m     \u001b[0;32melse\u001b[0m\u001b[0;34m:\u001b[0m\u001b[0;34m\u001b[0m\u001b[0;34m\u001b[0m\u001b[0m\n",
            "\u001b[0;31mIsADirectoryError\u001b[0m: [Errno 21] Is a directory: '/content/drive/MyDrive/Food_Vn/Validation/Pho'"
          ]
        }
      ]
    },
    {
      "cell_type": "code",
      "source": [
        "accuracy = train.history['accuracy']\n",
        "loss = train.history['loss']\n",
        "epochs = range(len(accuracy))\n",
        "plt.plot(epochs,loss,'b',label='Training loss')\n",
        "plt.show()"
      ],
      "metadata": {
        "colab": {
          "base_uri": "https://localhost:8080/",
          "height": 430
        },
        "id": "grxJ6jFrnObU",
        "outputId": "feeed842-b5a9-49b9-944a-2eaf28e23b28"
      },
      "execution_count": 17,
      "outputs": [
        {
          "output_type": "display_data",
          "data": {
            "text/plain": [
              "<Figure size 640x480 with 1 Axes>"
            ],
            "image/png": "[encoded data removed]"
          },
          "metadata": {}
        }
      ]
    },
    {
      "cell_type": "code",
      "source": [
        "from google.colab import drive\n",
        "drive.mount('/content/drive')"
      ],
      "metadata": {
        "colab": {
          "base_uri": "https://localhost:8080/"
        },
        "id": "TnL0dvM6oIUq",
        "outputId": "3d8321e3-8c56-4b39-9217-653a04922723"
      },
      "execution_count": 18,
      "outputs": [
        {
          "output_type": "stream",
          "name": "stdout",
          "text": [
            "Drive already mounted at /content/drive; to attempt to forcibly remount, call drive.mount(\"/content/drive\", force_remount=True).\n"
          ]
        }
      ]
    }
  ]
}